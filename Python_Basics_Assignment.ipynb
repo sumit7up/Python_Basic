{
  "nbformat": 4,
  "nbformat_minor": 0,
  "metadata": {
    "colab": {
      "provenance": []
    },
    "kernelspec": {
      "name": "python3",
      "display_name": "Python 3"
    },
    "language_info": {
      "name": "python"
    }
  },
  "cells": [
    {
      "cell_type": "markdown",
      "source": [
        "# Python Basic Questions\n"
      ],
      "metadata": {
        "id": "DRjIgut5BcUK"
      }
    },
    {
      "cell_type": "markdown",
      "source": [
        "1. What is Python, and why is it popular?\n",
        "   - Python is a programming language. Its popular because it is versatlie, easy to understand, has huge libraries and has large active community.\n",
        "\n",
        "2.  What is an interpreter in Python?\n",
        "    - Interpretor in python is aprogram that converts human readable code to byte code which machine can understand. It takes the python code as .py file and converts into bytecode.\n",
        "\n",
        "3. What are pre-defined keywords in Python?\n",
        "  - pre-defined keywords in Python are some words that have special meaning in python. Python itslef knows the meaning of such keywords. Some examples if, elif, def, while, else, for, break, continue.\n",
        "\n",
        "4. Can keywords be used as variable names?\n",
        "  - No, keywords can not be used as variable names.\n",
        "\n",
        "5. What is mutability in Python?\n",
        "  - Mutability refers to changeability or which can be modified afterwards also. Example list in puthon is mutable\n",
        "\n",
        "6. Why are lists mutable, but tuples are immutable?\n",
        "  - List are mutable because it allows the data stored in it to be changed.\n",
        "  - Tuples are immutable because it doesn't allow the data stored in it to be changed. It will give error when we try to change the data\n",
        "\n",
        "7. What is the difference between “==” and “is” operators in Python?\n",
        "  - \"==\" is equality operator. It compares the values of two objects. It checks if the content or data represented by the objects same or not.\n",
        "  - \"is\" is identity operator. It compares the identity of two objects. It checks if two variables refer to the exact same object in memory or not.\n",
        "\n",
        "8. What are logical operators in Python?\n",
        "  - There are three primary logical operators: and, or, and not.\n",
        "  These operators are helpful in decision making.\n",
        "  \"and\" - it returns true if both operands are true.\n",
        "  \"or\" - it returns true if either one operand is true.\n",
        "  \"not\" - it returns true if operand is false and viceversa.\n",
        "\n",
        "9. What is type casting in Python?\n",
        "  - Type casting in Python, also known as type conversion, is the process of converting a value from one data type to another.\n",
        "\n",
        "10. What is the difference between implicit and explicit type casting?\n",
        "  - Implicit type casting (or conversion) happens automatically by the compiler or interpreter while explicit type casting requires to explicitly specify the conversion using a cast operator or function\n",
        "\n",
        "11. What is the purpose of conditional statements in Python?\n",
        "  - The purpose of conditional statements in Python is to control the flow of execution in a program based on whether certain conditions are true or false. They help in decision making.\n",
        "\n",
        "12. How does the elif statement work?\n",
        "  - elif statement is used to test multiple conditions in a sequential manner. It always follows an if statement and can be followed by an optional else statement. Code in elif block gets executed when the condition of if statement becomes false. If there are multiples elif then the condition of first elif will be checked, if its false then only the second elif;s condition will be checked.\n",
        "\n",
        "13. What is the difference between for and while loops?\n",
        "  - \"for\" loops are typically used when the number of iterations is known beforehand, on the other hand, \"while\" loops are used when the number of iterations is not predetermined and depends on a condition that is evaluated during runtime.\n",
        "\n",
        "14. Describe a scenario where a while loop is more suitable than a for loop.\n",
        "  - While loop can be more suitable than for loop in scenarios like when we want user input untill a certain condition is met. For example if we want to input a valid email id from user then we can use while loop. The loop will terminate only when the user inputs the email id in correct format. If the user inputs invalid email id the loop will not terminate."
      ],
      "metadata": {
        "id": "mAEJCL8_Bq4l"
      }
    },
    {
      "cell_type": "code",
      "source": [
        "#1. Write a Python program to print \"Hello, World!\"\n",
        "\n",
        "print(\"Hello, World!\")"
      ],
      "metadata": {
        "id": "SLSKf79HucPC"
      },
      "execution_count": null,
      "outputs": []
    },
    {
      "cell_type": "code",
      "source": [
        "#2. Write a Python program that displays your name and age.\n",
        "\n",
        "print(\"My name is Sumit and my age is 35 years\")"
      ],
      "metadata": {
        "id": "oTOvBgi-vhV-"
      },
      "execution_count": null,
      "outputs": []
    },
    {
      "cell_type": "code",
      "source": [
        "#3. Write code to print all the pre-defined keywords in Python using the keyword library\n",
        "\n",
        "help(\"keywords\")\n"
      ],
      "metadata": {
        "id": "hE1x8nWMwBea"
      },
      "execution_count": null,
      "outputs": []
    },
    {
      "cell_type": "code",
      "source": [
        "#4. Write a program that checks if a given word is a Python keyword.\n",
        "import keyword\n",
        "\n",
        "list = keyword.kwlist\n",
        "word = input(\"Enter a word \")\n",
        "for s in list:\n",
        "  if word == s:\n",
        "    print(\"It is a keyword\")\n",
        "    break\n",
        "else:\n",
        "  print(\"It is not a keyword\")"
      ],
      "metadata": {
        "id": "i39s21Mzx0rD"
      },
      "execution_count": null,
      "outputs": []
    },
    {
      "cell_type": "code",
      "source": [
        "#5. Create a list and tuple in Python, and demonstrate how attempting to change an element works differently for each.\n",
        "\n",
        "my_list = [1,2,3,4]\n",
        "print(f\"Original list {my_list}\")\n",
        "my_list[0] = 10\n",
        "print(f\"Modified list {my_list}\")\n",
        "my_tuple = (1,2,3,4)\n",
        "print(f\"Original tuple {my_tuple}\")\n",
        "print(\"Trying to modify tupple will give error\")\n",
        "my_tuple[0] = 10\n",
        "print(f\"Modified tuple {my_tuple}\")"
      ],
      "metadata": {
        "id": "AfX4T3_m1iYj"
      },
      "execution_count": null,
      "outputs": []
    },
    {
      "cell_type": "code",
      "source": [
        "#6.  Write a function to demonstrate the behavior of mutable and immutable arguments.\n",
        "\n",
        "# Function has not been taught yet"
      ],
      "metadata": {
        "id": "d73BrAV69Pg7"
      },
      "execution_count": null,
      "outputs": []
    },
    {
      "cell_type": "code",
      "source": [
        "#7. Write a program that performs basic arithmetic operations on two user-input numbers.\n",
        "\n",
        "num1 = int(input(\"Enter first number \"))\n",
        "num2 = int(input(\"Enter second number \"))\n",
        "print(f\"Sum of {num1} and {num2} is {num1+num2}\")\n",
        "print(f\"Difference of {num1} and {num2} is {num1-num2}\")\n",
        "print(f\"Product of {num1} and {num2} is {num1*num2}\")\n",
        "if num2!=0:\n",
        "  print(f\"Division of {num1} and {num2} is {num1/num2}\")\n",
        "else:\n",
        "  print(\"Division by zero is not possible\")\n",
        "\n"
      ],
      "metadata": {
        "id": "R90ni0Y19PWU"
      },
      "execution_count": null,
      "outputs": []
    },
    {
      "cell_type": "code",
      "source": [
        "#8. Write a program to demonstrate the use of logical operators.\n",
        "\n",
        "age = 35\n",
        "has_license = True\n",
        "is_drunk = False\n",
        "\n",
        "\n",
        "print(\"Demonstrating 'and' operator\")\n",
        "if age >= 18 and has_license:\n",
        "    print(\"User is an adult and has a license.\")\n",
        "else:\n",
        "    print(\"User is either not an adult or does not have a license.\")\n",
        "\n",
        "print(\"\\n Demonstrating 'or' operator\")\n",
        "if age < 18 or not has_license:\n",
        "    print(\"User is either a minor or does not have a license.\")\n",
        "else:\n",
        "    print(\"User is an adult with a license.\")\n",
        "\n",
        "print(\"\\nDemonstrating 'not' operator\")\n",
        "if not is_drunk:\n",
        "    print(\"User is not drunk.\")\n",
        "else:\n",
        "    print(\"User is drunk.\")\n",
        "\n",
        "print(\"\\nCombining logical operators\")\n",
        "if (age >= 18 and has_license) and not is_drunk:\n",
        "    print(\"User is eligible to drive legally.\")\n",
        "else:\n",
        "    print(\"User is not eligible to drive legally under these conditions.\")\n"
      ],
      "metadata": {
        "id": "o6iY-R679PLv"
      },
      "execution_count": null,
      "outputs": []
    },
    {
      "cell_type": "code",
      "source": [
        "# 9. Write a Python program to convert user input from string to integer, float, and boolean types.\n",
        "\n",
        "str = input(\"Enter a string \")\n",
        "print(f\"String to integer {int(str)}\")\n",
        "print(f\"String to float {float(str)}\")\n",
        "print(f\"String to boolean {bool(str)}\")"
      ],
      "metadata": {
        "id": "uxAlty2F9PBj"
      },
      "execution_count": null,
      "outputs": []
    },
    {
      "cell_type": "code",
      "source": [
        "# 10. Write code to demonstrate type casting with list elements.\n",
        "\n",
        "list1 = [10,\"Sumit\",3.14, \"True\"]\n",
        "print(f\"Original list {list1}\")\n",
        "list1[0]=float(list1[0])\n",
        "list1[2]=int(list1[2])\n",
        "list1[3]=bool(list1[3])\n",
        "print(f\"Modified list {list1}\")"
      ],
      "metadata": {
        "colab": {
          "base_uri": "https://localhost:8080/"
        },
        "id": "7MDWxOHG9O2P",
        "outputId": "ccd2cc43-4c91-4b9e-a6c0-dc4b47e1203a"
      },
      "execution_count": 38,
      "outputs": [
        {
          "output_type": "stream",
          "name": "stdout",
          "text": [
            "Original list [10, 'Sumit', 3.14, 'True']\n",
            "Modified list [10.0, 'Sumit', 3, True]\n"
          ]
        }
      ]
    },
    {
      "cell_type": "code",
      "source": [
        "#11. Write a program that checks if a number is positive, negative, or zero\n",
        "\n",
        "number = input(\"Enter a number \")\n",
        "\n",
        "if number<0:\n",
        "  print(\"Number is negative\")\n",
        "elif number>0:\n",
        "  print(\"Number is positive\")\n",
        "else:\n",
        "  print(\"Number is zero\")"
      ],
      "metadata": {
        "id": "fjqRhxy14C_Y"
      },
      "execution_count": null,
      "outputs": []
    },
    {
      "cell_type": "code",
      "source": [
        "#12.  Write a for loop to print numbers from 1 to 10.\n",
        "\n",
        "for i in range(1,11):\n",
        "  print(i)"
      ],
      "metadata": {
        "id": "R5_zgrKI4cTF"
      },
      "execution_count": null,
      "outputs": []
    },
    {
      "cell_type": "code",
      "source": [
        "#13. Write a Python program to find the sum of all even numbers between 1 and 50.\n",
        "\n",
        "sum = 0\n",
        "for i in range(1,51):\n",
        "  if i%2==0:\n",
        "    sum = sum + i\n",
        "print(f\"Sum of all even numbers between 1 and 50 is {sum}\")\n"
      ],
      "metadata": {
        "id": "XRCsoV5R4z0j"
      },
      "execution_count": null,
      "outputs": []
    },
    {
      "cell_type": "code",
      "source": [
        "#14. Write a program to reverse a string using a while loop.\n",
        "\n",
        "str = \"Hello World!\"\n",
        "# str = \" \"+str\n",
        "l = len(str)\n",
        "while l>0:\n",
        "  print(str[l-1],end=\"\")\n",
        "  l=l-1\n"
      ],
      "metadata": {
        "colab": {
          "base_uri": "https://localhost:8080/"
        },
        "id": "g2fMafrp5VB5",
        "outputId": "5d81e782-a7e9-4bbc-be6f-805b93142057"
      },
      "execution_count": 27,
      "outputs": [
        {
          "output_type": "stream",
          "name": "stdout",
          "text": [
            "!dlroW olleH"
          ]
        }
      ]
    },
    {
      "cell_type": "code",
      "source": [
        "#15. Write a Python program to calculate the factorial of a number provided by the user using a while loop.\n",
        "\n",
        "num = int(input(\"Enter a number \"))\n",
        "\n",
        "fact = 1\n",
        "while num>0:\n",
        "  fact=fact*num\n",
        "  num=num-1\n",
        "\n",
        "print(f\"The factorial is {fact}\")"
      ],
      "metadata": {
        "colab": {
          "base_uri": "https://localhost:8080/"
        },
        "id": "6LYcyKJI74-3",
        "outputId": "8858f8db-0f3f-40c1-949f-e67d56d169fe"
      },
      "execution_count": 31,
      "outputs": [
        {
          "output_type": "stream",
          "name": "stdout",
          "text": [
            "Enter a number5\n",
            "The factorial is 120\n"
          ]
        }
      ]
    }
  ]
}