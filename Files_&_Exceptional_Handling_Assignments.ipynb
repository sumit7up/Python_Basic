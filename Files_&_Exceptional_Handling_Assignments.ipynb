{
  "nbformat": 4,
  "nbformat_minor": 0,
  "metadata": {
    "colab": {
      "provenance": []
    },
    "kernelspec": {
      "name": "python3",
      "display_name": "Python 3"
    },
    "language_info": {
      "name": "python"
    }
  },
  "cells": [
    {
      "cell_type": "markdown",
      "source": [
        "# Files & Exceptional Handling Assignments\n",
        "1. What is the difference between interpreted and compiled languages?\n",
        "  - Compiled languages are converted entirely into machine code by a compiler before execution. This process is a one-time step. The resulting machine code runs very quickly. Examples include C and C++.\n",
        "  - Interpreted languages are read and executed line-by-line by an interpreter at runtime. This makes them generally slower than compiled languages but more flexible and portable across different systems. Examples include Python and JavaScript.\n",
        "\n",
        "2. What is exception handling in Python?\n",
        "\n",
        "  - Exception handling is a mechanism in Python used to manage runtime errors, or \"exceptions,\" gracefully. Instead of a program crashing when an error occurs, try...except blocks allow a programmer to catch the exception and execute code to handle the problem, ensuring the program can continue running or terminate cleanly.\n",
        "3. What is the purpose of the finally block in exception handling?\n",
        "\n",
        "  - The finally block in exception handling contains code that will always be executed, regardless of whether an exception occurred or not. Its primary purpose is to perform cleanup tasks, such as closing files or releasing other system resources, to prevent resource leaks.\n",
        "4. What is logging in Python?\n",
        "\n",
        "  - Logging is the process of recording events and messages that happen during a program's execution to a log file or console. Python's built-in logging module provides a structured way to track events, helping developers with debugging, monitoring, and understanding the flow of an application.\n",
        "5. What is the significance of the __del__ method in Python?\n",
        "  - The __del__ method, also known as the destructor, is called when\n",
        " an object is about to be garbage-collected. It can be used for performing cleanup operations, particularly for releasing non-memory resources like file handles or network connections. However, its timing is not guaranteed, so the with statement is a more reliable approach for resource management.\n",
        "6. What is the difference between import and from ... import in Python?\n",
        "\n",
        "  - import module_name imports the entire module, and you must use the module name as a prefix to access its functions (e.g., math.sqrt()).\n",
        "from module_name import specific_item imports only a specified function, class, or variable from a module, allowing you to use it directly without the module prefix (e.g., sqrt()).\n",
        "7. How can you handle multiple exceptions in Python?\n",
        "  - You can handle multiple exceptions in Python in two main ways:\n",
        "Use multiple except blocks, with each one specified to handle a different exception type.\n",
        "Use a single except block with a tuple of exception types, like except (ValueError, TypeError) as e:.\n",
        "8. What is the purpose of the with statement when handling files in Python?\n",
        "\n",
        "  - The with statement simplifies resource management and ensures that a file is properly closed after its suite finishes, even if an exception occurs. It works by creating a context manager that automatically handles the setup and teardown of the resource, making the code cleaner and safer.\n",
        "9. What is the difference between multithreading and multiprocessing?\n",
        "  - Multithreading involves multiple threads of execution within a single process. In Python, due to the Global Interpreter Lock (GIL), it is most suitable for I/O-bound tasks that involve waiting, like network requests.\n",
        "Multiprocessing uses multiple separate processes, each with its own interpreter and memory space, allowing for true parallel execution. It is ideal for CPU-bound tasks that require heavy computation.\n",
        "10. What are the advantages of using logging in a program?\n",
        "  - The key advantages of using logging include:\n",
        "Debugging: It provides a detailed record of application events, helping to diagnose and fix problems.\n",
        "Troubleshooting: Log files contain information that can be used to troubleshoot issues in a deployed application.\n",
        "Monitoring: It allows for tracking the application's health and performance over time.\n",
        "Separation of concerns: It separates debugging output from the main program logic, which is much cleaner than using print() statements.\n",
        "11. What is memory management in Python?\n",
        "  - Memory management in Python refers to the automatic handling of memory allocation and deallocation for objects. It uses a combination of reference counting to track object usage and a generational garbage collector to deal with more complex scenarios like reference cycles.\n",
        "12. What are the basic steps involved in exception handling in Python?\n",
        "  - try block: Enclose the code that might raise an exception.\n",
        "except block: Define the code that will handle a specific exception if one occurs.\n",
        "else block (optional): Execute code if no exceptions are raised in the try block.\n",
        "finally block (optional): Execute code that must run regardless of an exception occurring.\n",
        "13. Why is memory management important in Python?\n",
        "  - Proper memory management is vital for a robust application:\n",
        "Prevents memory leaks: It ensures that memory is reclaimed from unused objects, preventing the program from consuming excessive memory.\n",
        "Improves performance: Efficient management of memory resources contributes to a responsive and high-performing application.\n",
        "Enhances stability: It reduces the risk of crashes due to memory-related errors.\n",
        "14. What is the role of try and except in exception handling?\n",
        "  - The try block defines a section of code to be tested for errors. The except block specifies the action to take if a particular exception is raised within the try block. Together, they form the core structure for handling errors gracefully.\n",
        "15. How does Python's garbage collection system work?\n",
        "  - Python's garbage collection relies on two main mechanisms:\n",
        "Reference Counting: The interpreter keeps a count of how many references point to an object. When the count drops to zero, the object's memory is freed.\n",
        "Generational Garbage Collection: A cyclic garbage collector is used to clean up objects that have circular references, where they refer to each other and their reference count never drops to zero.\n",
        "16. What is the purpose of the else block in exception handling?\n",
        "  - The else block runs only if the code in the try block completes successfully without raising any exceptions. This helps to clearly separate the logic that should be executed only on success from the code that handles potential errors.\n",
        "17. What are the common logging levels in Python?\n",
        "  - The common logging levels in Python, in order of increasing severity, are: DEBUG, INFO, WARNING, ERROR, and CRITICAL. Each level corresponds to a different level of detail and severity, allowing you to filter log messages.\n",
        "18. What is the difference between os.fork() and multiprocessing in Python?\n",
        "  - os.fork(): A low-level, Unix-only function for creating a new process.\n",
        "multiprocessing: A higher-level, cross-platform module that provides an object-oriented way to manage processes. It handles platform differences, making the code portable.\n",
        "19. What is the importance of closing a file in Python?\n",
        "  - Closing a file is important for three main reasons:\n",
        "Ensures data is written: Buffering can mean that data is not written to the disk until the file is closed.\n",
        "Releases resources: The operating system has a limited number of file descriptors, and closing files frees them up.\n",
        "Removes locks: Many systems place locks on open files, preventing other programs from accessing them. Closing the file releases the lock.\n",
        "20. What is the difference between file.read() and file.readline() in Python?\n",
        "  - file.read() reads the entire content of a file into a single string. It is not memory-efficient for large files.\n",
        "file.readline() reads a single line from the file. It is more memory-efficient and useful when iterating over a large file line by line.\n",
        "21. What is the logging module in Python used for?\n",
        "  - The logging module is a robust and flexible framework used for generating log messages. It can direct these messages to a file, the console, or other destinations, helping developers debug, monitor, and audit the execution of their code.\n",
        "22. What is the os module in Python used for in file handling?\n",
        "  - The os module is used for interacting with the operating system, including tasks related to file paths, directories, and file permissions. It provides functions for creating, deleting, and renaming files and directories, as well as functions for manipulating file paths.\n",
        "23. What are the challenges associated with memory management in Python?\n",
        "\n",
        "  - Challenges with Python's memory management include:\n",
        "Reference cycles: The generational garbage collector is needed to break circular references, which reference counting cannot handle.\n",
        "Performance overhead: The garbage collection process itself can introduce a performance overhead, though it is generally efficient.\n",
        "Resource leaks: Improperly closing files or releasing other non-memory resources can still lead to resource leaks.\n",
        "24. How do you raise an exception manually in Python?\n",
        "  - You can manually raise an exception using the raise keyword, followed by an instance of an exception class. For example, raise ValueError(\"Invalid input provided.\n",
        "25. Why is it important to use multithreading in certain applications?\n",
        "  - Multithreading is important for applications that are I/O-bound, such as those that interact with networks or databases. By using multiple threads, a program can perform other tasks while a thread is waiting for an I/O operation to complete. This improves the application's responsiveness and can increase its overall throughput.\n"
      ],
      "metadata": {
        "id": "65uhcpUaVqgV"
      }
    },
    {
      "cell_type": "code",
      "source": [
        "#1. How can you open a file for writing in Python and write a string to it?\n",
        "file = open(\"example.txt\", \"w\")\n",
        "file.write(\"Hello, World!\")\n",
        "file.close()\n"
      ],
      "metadata": {
        "id": "eJTtf3kvsJG-"
      },
      "execution_count": 4,
      "outputs": []
    },
    {
      "cell_type": "code",
      "source": [
        "#2. Write a Python program to read the contents of a file and print each lineF\n",
        "file = open(\"example.txt\", \"r\")\n",
        "for line in file:\n",
        "    print(line)\n",
        "file.close()"
      ],
      "metadata": {
        "collapsed": true,
        "id": "tnXPpEO73CVa"
      },
      "execution_count": null,
      "outputs": []
    },
    {
      "cell_type": "code",
      "source": [
        "# 3. How would you handle a case where the file doesn't exist while trying to open it for reading?\n",
        "try:\n",
        "    file = open(\"nonexistent.txt\", \"r\")\n",
        "except FileNotFoundError:\n",
        "    print(\"The file does not exist.\")"
      ],
      "metadata": {
        "colab": {
          "base_uri": "https://localhost:8080/"
        },
        "id": "2uV2I8Cj3IXo",
        "outputId": "064d6b16-a4bc-4e72-f87b-5571c756751d"
      },
      "execution_count": 5,
      "outputs": [
        {
          "output_type": "stream",
          "name": "stdout",
          "text": [
            "The file does not exist.\n"
          ]
        }
      ]
    },
    {
      "cell_type": "code",
      "source": [
        "# 4. Write a Python script that reads from one file and writes its content to another file\n",
        "file1 = open(\"file1.txt\", \"r\")\n",
        "file2 = open(\"file2.txt\", \"w\")\n",
        "for line in file1:\n",
        "    file2.write(line)\n",
        "file1.close()\n",
        "file2.close()"
      ],
      "metadata": {
        "colab": {
          "base_uri": "https://localhost:8080/",
          "height": 211
        },
        "id": "WgFDDJ-k3IT7",
        "outputId": "8782d660-a413-4a42-c08e-fdc087b58036"
      },
      "execution_count": 6,
      "outputs": [
        {
          "output_type": "error",
          "ename": "FileNotFoundError",
          "evalue": "[Errno 2] No such file or directory: 'file1.txt'",
          "traceback": [
            "\u001b[0;31m---------------------------------------------------------------------------\u001b[0m",
            "\u001b[0;31mFileNotFoundError\u001b[0m                         Traceback (most recent call last)",
            "\u001b[0;32m/tmp/ipython-input-4037194300.py\u001b[0m in \u001b[0;36m<cell line: 0>\u001b[0;34m()\u001b[0m\n\u001b[1;32m      1\u001b[0m \u001b[0;31m# 4. Write a Python script that reads from one file and writes its content to another file\u001b[0m\u001b[0;34m\u001b[0m\u001b[0;34m\u001b[0m\u001b[0m\n\u001b[0;32m----> 2\u001b[0;31m \u001b[0mfile1\u001b[0m \u001b[0;34m=\u001b[0m \u001b[0mopen\u001b[0m\u001b[0;34m(\u001b[0m\u001b[0;34m\"file1.txt\"\u001b[0m\u001b[0;34m,\u001b[0m \u001b[0;34m\"r\"\u001b[0m\u001b[0;34m)\u001b[0m\u001b[0;34m\u001b[0m\u001b[0;34m\u001b[0m\u001b[0m\n\u001b[0m\u001b[1;32m      3\u001b[0m \u001b[0mfile2\u001b[0m \u001b[0;34m=\u001b[0m \u001b[0mopen\u001b[0m\u001b[0;34m(\u001b[0m\u001b[0;34m\"file2.txt\"\u001b[0m\u001b[0;34m,\u001b[0m \u001b[0;34m\"w\"\u001b[0m\u001b[0;34m)\u001b[0m\u001b[0;34m\u001b[0m\u001b[0;34m\u001b[0m\u001b[0m\n\u001b[1;32m      4\u001b[0m \u001b[0;32mfor\u001b[0m \u001b[0mline\u001b[0m \u001b[0;32min\u001b[0m \u001b[0mfile1\u001b[0m\u001b[0;34m:\u001b[0m\u001b[0;34m\u001b[0m\u001b[0;34m\u001b[0m\u001b[0m\n\u001b[1;32m      5\u001b[0m     \u001b[0mfile2\u001b[0m\u001b[0;34m.\u001b[0m\u001b[0mwrite\u001b[0m\u001b[0;34m(\u001b[0m\u001b[0mline\u001b[0m\u001b[0;34m)\u001b[0m\u001b[0;34m\u001b[0m\u001b[0;34m\u001b[0m\u001b[0m\n",
            "\u001b[0;31mFileNotFoundError\u001b[0m: [Errno 2] No such file or directory: 'file1.txt'"
          ]
        }
      ]
    },
    {
      "cell_type": "code",
      "source": [
        "# 5. How would you catch and handle division by zero error in Python?\n",
        "try:\n",
        "    result = 10 / 0\n",
        "except ZeroDivisionError:\n",
        "    print(\"Error: Division by zero.\")"
      ],
      "metadata": {
        "colab": {
          "base_uri": "https://localhost:8080/"
        },
        "id": "SzintnTs3IQf",
        "outputId": "df4ace17-0329-4319-aace-32bebb2420fb"
      },
      "execution_count": 7,
      "outputs": [
        {
          "output_type": "stream",
          "name": "stdout",
          "text": [
            "Error: Division by zero.\n"
          ]
        }
      ]
    },
    {
      "cell_type": "code",
      "source": [
        "# 6. Write a Python program that logs an error message to a log file when a division by zero exception occurs\n",
        "import logging\n",
        "\n",
        "logging.basicConfig(filename=\"error_log.txt\", level=logging.ERROR)\n",
        "\n",
        "try:\n",
        "    result = 10 / 0\n",
        "except ZeroDivisionError:\n",
        "    logging.error(\"Division by zero error occurred.\")"
      ],
      "metadata": {
        "colab": {
          "base_uri": "https://localhost:8080/"
        },
        "id": "lLjokFnL3INL",
        "outputId": "3c248620-6979-45d0-b173-3abed1c5d355"
      },
      "execution_count": 8,
      "outputs": [
        {
          "output_type": "stream",
          "name": "stderr",
          "text": [
            "ERROR:root:Division by zero error occurred.\n"
          ]
        }
      ]
    },
    {
      "cell_type": "code",
      "source": [
        "# 7. How do you log information at different levels (INFO, ERROR, WARNING) in Python using the logging module\n",
        "import logging\n",
        "\n",
        "logging.basicConfig(filename=\"log_file.txt\", level=logging.INFO)\n",
        "\n",
        "logging.info(\"This is an informational message.\")\n",
        "logging.warning(\"This is a warning message.\")\n",
        "logging.error(\"This is an error message.\")"
      ],
      "metadata": {
        "colab": {
          "base_uri": "https://localhost:8080/"
        },
        "id": "b9ecpbkc3IJ1",
        "outputId": "3b59cc9d-ae16-4c7f-ef65-2be5d905591c"
      },
      "execution_count": 9,
      "outputs": [
        {
          "output_type": "stream",
          "name": "stderr",
          "text": [
            "WARNING:root:This is a warning message.\n",
            "ERROR:root:This is an error message.\n"
          ]
        }
      ]
    },
    {
      "cell_type": "code",
      "source": [
        "# 8. Write a program to handle a file opening error using exception handling\n",
        "try:\n",
        "    file = open(\"nonexistent.txt\", \"r\")\n",
        "except FileNotFoundError:\n",
        "    print(\"Error: The file does not exist.\")"
      ],
      "metadata": {
        "id": "OoQF5Z3l3IG5"
      },
      "execution_count": null,
      "outputs": []
    },
    {
      "cell_type": "code",
      "source": [
        "# 9.How can you read a file line by line and store its content in a list in Python?\n",
        "file = open(\"example.txt\", \"r\")\n",
        "lines = file.readlines()\n",
        "file.close()\n",
        "print(lines)"
      ],
      "metadata": {
        "colab": {
          "base_uri": "https://localhost:8080/"
        },
        "id": "fb-2FG813ID1",
        "outputId": "0c725837-a905-4a19-eee7-1f4718b88515"
      },
      "execution_count": 10,
      "outputs": [
        {
          "output_type": "stream",
          "name": "stdout",
          "text": [
            "['Hello, World!']\n"
          ]
        }
      ]
    },
    {
      "cell_type": "code",
      "source": [
        "# 10.How can you append data to an existing file in Python?\n",
        "file = open(\"example.txt\", \"a\")\n",
        "file.write(\"\\nAppended line.\")\n",
        "file.close()"
      ],
      "metadata": {
        "id": "L-33GaxZ3IAe"
      },
      "execution_count": 14,
      "outputs": []
    },
    {
      "cell_type": "code",
      "source": [
        "# 11. Write a Python program that uses a try-except block to handle an error when attempting to access a dictionary key that doesn't exist.\n",
        "my_dict = {\"a\": 1, \"b\": 2}\n",
        "try:\n",
        "    value = my_dict[\"c\"]\n",
        "except KeyError:\n",
        "    print(\"Error: Key not found in the dictionary.\")"
      ],
      "metadata": {
        "colab": {
          "base_uri": "https://localhost:8080/"
        },
        "id": "s20X5nKz3H9V",
        "outputId": "3f332694-ec43-4467-ad0a-05e0fe983fec"
      },
      "execution_count": 12,
      "outputs": [
        {
          "output_type": "stream",
          "name": "stdout",
          "text": [
            "Error: Key not found in the dictionary.\n"
          ]
        }
      ]
    },
    {
      "cell_type": "code",
      "source": [
        "# 12.Write a program that demonstrates using multiple except blocks to handle different types of exceptions\n",
        "try:\n",
        "    result = 10 / 0\n",
        "except ZeroDivisionError:\n",
        "    print(\"Error: Division by zero.\")\n",
        "except ValueError:\n",
        "    print(\"Error: Invalid value.\")"
      ],
      "metadata": {
        "colab": {
          "base_uri": "https://localhost:8080/"
        },
        "id": "L1xk-JMR3H6R",
        "outputId": "f2ce2bbd-cbae-4ef5-87bb-23bf2a617b95"
      },
      "execution_count": 13,
      "outputs": [
        {
          "output_type": "stream",
          "name": "stdout",
          "text": [
            "Error: Division by zero.\n"
          ]
        }
      ]
    },
    {
      "cell_type": "code",
      "source": [
        "# 13. F How would you check if a file exists before attempting to read it in Python\n",
        "import os\n",
        "\n",
        "if os.path.exists(\"example.txt\"):\n",
        "    file = open(\"example.txt\", \"r\")\n",
        "    content = file.read()\n",
        "    file.close()\n",
        "    print(content)\n",
        "else:\n",
        "    print(\"Error: The file does not exist.\")"
      ],
      "metadata": {
        "colab": {
          "base_uri": "https://localhost:8080/"
        },
        "id": "ycYeGRVh3H3V",
        "outputId": "51451f89-7f09-417e-9fb2-63585532183a"
      },
      "execution_count": 15,
      "outputs": [
        {
          "output_type": "stream",
          "name": "stdout",
          "text": [
            "Hello, World!\n",
            "Appended line.\n",
            "Appended line.\n"
          ]
        }
      ]
    },
    {
      "cell_type": "code",
      "source": [
        "# 14. Write a program that uses the logging module to log both informational and error messages\n",
        "import logging\n",
        "\n",
        "logging.basicConfig(filename=\"log_file.txt\", level=logging.INFO)\n",
        "\n",
        "logging.info(\"This is an informational message.\")\n",
        "logging.error(\"This is an error message.\")"
      ],
      "metadata": {
        "colab": {
          "base_uri": "https://localhost:8080/"
        },
        "id": "8a-t6lpM3Hz9",
        "outputId": "47a4b746-1710-4384-a670-b9c306b6a3a1"
      },
      "execution_count": 16,
      "outputs": [
        {
          "output_type": "stream",
          "name": "stderr",
          "text": [
            "ERROR:root:This is an error message.\n"
          ]
        }
      ]
    },
    {
      "cell_type": "code",
      "source": [
        "# 15. Write a Python program that prints the content of a file and handles the case when the file is empty\n",
        "try:\n",
        "    file = open(\"example.txt\", \"r\")\n",
        "    content = file.read()\n",
        "    if content:\n",
        "        print(content)\n",
        "    else:\n",
        "        print(\"Error: The file is empty.\")"
      ],
      "metadata": {
        "colab": {
          "base_uri": "https://localhost:8080/",
          "height": 106
        },
        "id": "u3Q2DyfC3HxI",
        "outputId": "cde27197-fcd1-4d7f-9745-8aead7899bea"
      },
      "execution_count": 17,
      "outputs": [
        {
          "output_type": "error",
          "ename": "SyntaxError",
          "evalue": "incomplete input (ipython-input-1417687481.py, line 8)",
          "traceback": [
            "\u001b[0;36m  File \u001b[0;32m\"/tmp/ipython-input-1417687481.py\"\u001b[0;36m, line \u001b[0;32m8\u001b[0m\n\u001b[0;31m    print(\"Error: The file is empty.\")\u001b[0m\n\u001b[0m                                      ^\u001b[0m\n\u001b[0;31mSyntaxError\u001b[0m\u001b[0;31m:\u001b[0m incomplete input\n"
          ]
        }
      ]
    },
    {
      "cell_type": "code",
      "source": [
        "# 16.Demonstrate how to use memory profiling to check the memory usage of a small program?\n",
        "from memory_profiler import profile\n",
        "\n",
        "@profile\n",
        "def my_function():\n",
        "    # Some code here\n",
        "    pass\n",
        "\n",
        "my_function()"
      ],
      "metadata": {
        "colab": {
          "base_uri": "https://localhost:8080/",
          "height": 383
        },
        "id": "6JCWWC4C3HuJ",
        "outputId": "303f75a0-3d09-4e5d-8a8c-ce0dd917adb8"
      },
      "execution_count": 18,
      "outputs": [
        {
          "output_type": "error",
          "ename": "ModuleNotFoundError",
          "evalue": "No module named 'memory_profiler'",
          "traceback": [
            "\u001b[0;31m---------------------------------------------------------------------------\u001b[0m",
            "\u001b[0;31mModuleNotFoundError\u001b[0m                       Traceback (most recent call last)",
            "\u001b[0;32m/tmp/ipython-input-3362901241.py\u001b[0m in \u001b[0;36m<cell line: 0>\u001b[0;34m()\u001b[0m\n\u001b[1;32m      1\u001b[0m \u001b[0;31m# 16.Demonstrate how to use memory profiling to check the memory usage of a small program?\u001b[0m\u001b[0;34m\u001b[0m\u001b[0;34m\u001b[0m\u001b[0m\n\u001b[0;32m----> 2\u001b[0;31m \u001b[0;32mfrom\u001b[0m \u001b[0mmemory_profiler\u001b[0m \u001b[0;32mimport\u001b[0m \u001b[0mprofile\u001b[0m\u001b[0;34m\u001b[0m\u001b[0;34m\u001b[0m\u001b[0m\n\u001b[0m\u001b[1;32m      3\u001b[0m \u001b[0;34m\u001b[0m\u001b[0m\n\u001b[1;32m      4\u001b[0m \u001b[0;34m@\u001b[0m\u001b[0mprofile\u001b[0m\u001b[0;34m\u001b[0m\u001b[0;34m\u001b[0m\u001b[0m\n\u001b[1;32m      5\u001b[0m \u001b[0;32mdef\u001b[0m \u001b[0mmy_function\u001b[0m\u001b[0;34m(\u001b[0m\u001b[0;34m)\u001b[0m\u001b[0;34m:\u001b[0m\u001b[0;34m\u001b[0m\u001b[0;34m\u001b[0m\u001b[0m\n",
            "\u001b[0;31mModuleNotFoundError\u001b[0m: No module named 'memory_profiler'",
            "",
            "\u001b[0;31m---------------------------------------------------------------------------\u001b[0;32m\nNOTE: If your import is failing due to a missing package, you can\nmanually install dependencies using either !pip or !apt.\n\nTo view examples of installing some common dependencies, click the\n\"Open Examples\" button below.\n\u001b[0;31m---------------------------------------------------------------------------\u001b[0m\n"
          ],
          "errorDetails": {
            "actions": [
              {
                "action": "open_url",
                "actionText": "Open Examples",
                "url": "/notebooks/snippets/importing_libraries.ipynb"
              }
            ]
          }
        }
      ]
    },
    {
      "cell_type": "code",
      "source": [
        "# 17. Write a Python program to create and write a list of numbers to a file, one number per line.\n",
        "numbers = [1, 2, 3, 4, 5]\n",
        "file = open(\"numbers.txt\", \"w\")\n",
        "for num in numbers:\n",
        "    file.write(str(num) + \"\\n\")\n",
        "file.close()"
      ],
      "metadata": {
        "id": "qborywQP3HrC"
      },
      "execution_count": 19,
      "outputs": []
    },
    {
      "cell_type": "code",
      "source": [
        "# 18.How would you implement a basic logging setup that logs to a file with rotation after 1MB?\n",
        "import logging"
      ],
      "metadata": {
        "id": "ysF4dJiP3Hn_"
      },
      "execution_count": 20,
      "outputs": []
    },
    {
      "cell_type": "code",
      "source": [
        "# 19. Write a program that handles both IndexError and KeyError using a try-except block?\n",
        "my_list = [1, 2, 3]\n",
        "my_dict = {\"a\": 1, \"b\": 2}\n",
        "\n",
        "try:\n",
        "    value = my_list[3]\n",
        "except IndexError:\n",
        "    print(\"Error: Index out of range.\")\n",
        "\n"
      ],
      "metadata": {
        "colab": {
          "base_uri": "https://localhost:8080/"
        },
        "id": "anclkDN13HlD",
        "outputId": "7bebd064-9839-4a1d-f3d4-87594b4554c4"
      },
      "execution_count": 21,
      "outputs": [
        {
          "output_type": "stream",
          "name": "stdout",
          "text": [
            "Error: Index out of range.\n"
          ]
        }
      ]
    },
    {
      "cell_type": "code",
      "source": [
        "# 20.  How would you open a file and read its contents using a context manager in Python?\n",
        "with open(\"example.txt\", \"r\") as file:\n",
        "    content = file.read()\n",
        "    print(content)"
      ],
      "metadata": {
        "colab": {
          "base_uri": "https://localhost:8080/"
        },
        "id": "g4nP0qyy3Hh8",
        "outputId": "a1a6093e-1953-4549-b2ff-8ce79345d5af"
      },
      "execution_count": 22,
      "outputs": [
        {
          "output_type": "stream",
          "name": "stdout",
          "text": [
            "Hello, World!\n",
            "Appended line.\n",
            "Appended line.\n"
          ]
        }
      ]
    },
    {
      "cell_type": "code",
      "source": [
        "# 21. Write a Python program that reads a file and prints the number of occurrences of a specific word?\n",
        "file = open(\"example.txt\", \"r\")\n",
        "word_count = {}\n",
        "for line in file:\n",
        "    words = line.split()"
      ],
      "metadata": {
        "id": "FAjZYWy13He0"
      },
      "execution_count": 23,
      "outputs": []
    },
    {
      "cell_type": "code",
      "source": [
        "# 22. How can you check if a file is empty before attempting to read its contents?\n",
        "file = open(\"example.txt\", \"r\")\n",
        "content = file.read()\n",
        "if content:\n",
        "    print(content)\n",
        "else:\n",
        "    print(\"Error: The file is empty.\")"
      ],
      "metadata": {
        "colab": {
          "base_uri": "https://localhost:8080/"
        },
        "id": "dodYQgkm3HcH",
        "outputId": "88e06e80-0c38-42eb-ed12-0490a471bd9e"
      },
      "execution_count": 24,
      "outputs": [
        {
          "output_type": "stream",
          "name": "stdout",
          "text": [
            "Hello, World!\n",
            "Appended line.\n",
            "Appended line.\n"
          ]
        }
      ]
    },
    {
      "cell_type": "code",
      "source": [
        "# 23. Write a Python program that writes to a log file when an error occurs during file handling\n",
        "import logging\n",
        "\n",
        "logging.basicConfig(filename=\"error_log.txt\", level=logging.ERROR)\n",
        "\n",
        "try:\n",
        "    file = open(\"nonexistent.txt\", \"r\")\n",
        "except FileNotFoundError:\n",
        "    logging.error(\"Error: The file does not exist.\")"
      ],
      "metadata": {
        "colab": {
          "base_uri": "https://localhost:8080/"
        },
        "id": "rQHZbjj23HZC",
        "outputId": "847d09b9-0714-4417-a2e9-2d969d7565ff"
      },
      "execution_count": 25,
      "outputs": [
        {
          "output_type": "stream",
          "name": "stderr",
          "text": [
            "ERROR:root:Error: The file does not exist.\n"
          ]
        }
      ]
    }
  ]
}