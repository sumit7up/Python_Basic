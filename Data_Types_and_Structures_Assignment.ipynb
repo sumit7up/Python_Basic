{
  "nbformat": 4,
  "nbformat_minor": 0,
  "metadata": {
    "colab": {
      "provenance": []
    },
    "kernelspec": {
      "name": "python3",
      "display_name": "Python 3"
    },
    "language_info": {
      "name": "python"
    }
  },
  "cells": [
    {
      "cell_type": "markdown",
      "source": [
        "# Data Types and Structures Questions\n",
        "\n",
        "1. What are data structures, and why are they important?\n",
        "  - Data structures are specialized formats for organizing, storing, and accessing collections of data.\n",
        "  They are useful as they provide efficient ways to manage information based on its characteristics and intended use.\n",
        "\n",
        "2. Explain the difference between mutable and immutable data types with examples.\n",
        "\n",
        "  - Mutable data types are those whose values or contents can be modified in-place after they have been initialized. Example List\n",
        "\n",
        "        my_list = [1, 2, 3]\n",
        "        my_list.append(4)  # Modifies the original list\n",
        "        print(my_list)  # Output: [1, 2, 3, 4]\n",
        "  - Immutable data types are those whose values or contents cannot be changed after they are created. Example Strings\n",
        "\n",
        "        my_string = \"hello\"\n",
        "        my_string += \" world\"  # Creates a new string object \"hello world\"\n",
        "        print(my_string)  # Output: hello world\n",
        "  \n",
        "3. What are the main differences between lists and tuples in Python?\n",
        "  - List is mutable whereas tuples are immutable\n",
        "\n",
        "4. Describe how dictionaries store data.\n",
        "  - Dictionaries store the data in the form of key value pair. Key has to be unique.\n",
        "\n",
        "5. Why might you use a set instead of a list in Python?\n",
        "  - Set can be used if we need a collection where duplicate values should be automatically removed. Lists, on the other hand, allow for duplicate elements.\n",
        "\n",
        "6. What is a string in Python, and how is it different from a list?\n",
        "  - In Python, a string is an immutable sequence of characters, used to represent text. Strings are enclosed in single quotes ('...'), double quotes (\"...\"), or triple quotes ('''...''' or \"\"\"...\"\"\") for multi-line strings.\n",
        "  - A list in Python is a mutable, ordered sequence of items. Lists are enclosed in square brackets ([...]), and their elements can be of various data types, including other lists.\n",
        "\n",
        "7. How do tuples ensure data integrity in Python?\n",
        "  - tuples ensure data integrity in Python as they are immutable. This characteristic means that once a tuple is created, its elements cannot be changed, added, or removed.\n",
        "\n",
        "8. What is a hash table, and how does it relate to dictionaries in Python?\n",
        "  - A hash table is a data structure that implements an associative array or dictionary, which maps keys to values. It uses a hash function to compute an index into an array of buckets or slots, from which the desired value can be found.\n",
        "\n",
        "9. Can lists contain different data types in Python?\n",
        "  - Yes\n",
        "\n",
        "10. Explain why strings are immutable in Python.\n",
        "  - Strings are immutable in Python, meaning their content cannot be changed after they are created.\n",
        "\n",
        "11. What advantages do dictionaries offer over lists for certain tasks?\n",
        "  - Dictionaries store the value in key value pair which could help in fast lookups.\n",
        "\n",
        "12. Describe a scenario where using a tuple would be preferable over a list.\n",
        "  - Storing the employee id of all the employees which once created canot be modified afterwards.\n",
        "\n",
        "13. How do sets handle duplicate values in Python?\n",
        "  - Sets automatically removes the duplicate value and only stores the unique elements.\n",
        "\n",
        "14. How does the “in” keyword work differently for lists and dictionaries\n",
        "  - The \"in\" keyword checks for the presence of a specific element within the list.\n",
        "  - The \"in\" keyword checks for the presence of a specific key within the dictionary. It does not directly check for values.\n",
        "\n",
        "15. Can you modify the elements of a tuple? Explain why or why not.\n",
        "  - No the elements of a tuple cannot be modified because it is immutable. Modifying the elements of tuple will give error.\n",
        "\n",
        "16. What is a nested dictionary, and give an example of its use case?\n",
        "\n",
        "  - Dictionary inside a Dictionary is nested Dictionary.\n",
        "  Use case could be the storing the resturant menu.\n",
        "  Example:\n",
        "\n",
        "  restaurant_menu = {\n",
        "    \"Butter Chicken\": {\n",
        "        \"description\": \"Creamy tomato-based curry with tender chicken pieces.\",\n",
        "        \"price\": 450,\n",
        "        \"ingredients\": [\"chicken\", \"tomatoes\", \"cream\", \"spices\"],\n",
        "        \"vegetarian_option\": False\n",
        "    },\n",
        "    \"Vegetable Stir-Fry\": {\n",
        "        \"description\": \"Fresh mixed vegetables stir-fried with your choice of sauce.\",\n",
        "        \"price\": 300,\n",
        "        \"ingredients\": [\"broccoli\", \"carrots\", \"bell peppers\", \"soy sauce\"],\n",
        "        \"vegetarian_option\": True,\n",
        "        \"vegan_option\": True\n",
        "    }\n",
        "}\n",
        "\n",
        "17. Describe the time complexity of accessing elements in a dictionary.\n",
        "  - It typically has an average time complexity of O(1), also known as constant time.\n",
        "\n",
        "18. In what situations are lists preferred over dictionaries.\n",
        "\n",
        "  - Lists are preferred over dictionaries in situations where:\n",
        "  Order of elements is important,\n",
        "\n",
        "  Elments are not uniquely identifiable by a key\n",
        "\n",
        "19. Why are dictionaries considered unordered, and how does that affect data retrieval?\n",
        "\n",
        "  -Dictionaries are considered unordered because they don't store items in a specific sequence based on insertion order or any other predefined order. Instead, they are optimized for fast key-based lookups. This means you can't rely on the order in which you added items to a dictionary when retrieving them, but you can quickly access a value using its corresponding key.\n",
        "\n",
        "20. Explain the difference between a list and a dictionary in terms of data retrieval.\n",
        "\n",
        "  - For List - If an element needs to be found by its value rather than its index, a list typically requires a linear search, iterating through each element until the desired value is found. This can be less efficient for large lists.\n",
        "\n",
        "  For Dictionary - Dictionaries utilize a hashing mechanism to quickly map keys to their values. This allows for very efficient, near-constant-time retrieval, regardless of the dictionary's size, as long as the key is known."
      ],
      "metadata": {
        "id": "BOqTKw6ZrQQB"
      }
    },
    {
      "cell_type": "code",
      "source": [
        "#1. Write a code to create a string with your name and print it.\n",
        "\n",
        "name = \"Sumit Kumar\"\n",
        "print(name)"
      ],
      "metadata": {
        "colab": {
          "base_uri": "https://localhost:8080/"
        },
        "id": "2uN0lxeSO7v0",
        "outputId": "396266db-b5e4-4d39-ba8f-b48c12a7bc87"
      },
      "execution_count": null,
      "outputs": [
        {
          "output_type": "stream",
          "name": "stdout",
          "text": [
            "Sumit Kumar\n"
          ]
        }
      ]
    },
    {
      "cell_type": "code",
      "source": [
        "#2. Write a code to find the length of the string \"Hello World\".\n",
        "\n",
        "str = \"Hello World\"\n",
        "length = len(str)\n",
        "print(length)"
      ],
      "metadata": {
        "colab": {
          "base_uri": "https://localhost:8080/"
        },
        "id": "cB1IrFBWO7yB",
        "outputId": "0dab9251-0e04-4bc3-cc85-0e08a82c2558"
      },
      "execution_count": null,
      "outputs": [
        {
          "output_type": "stream",
          "name": "stdout",
          "text": [
            "11\n"
          ]
        }
      ]
    },
    {
      "cell_type": "code",
      "source": [
        "#3. Write a code to slice the first 3 characters from the string \"Python Programming\".\n",
        "\n",
        "str = \"Python Programming\"\n",
        "slice = str[:3]\n",
        "print(slice)"
      ],
      "metadata": {
        "colab": {
          "base_uri": "https://localhost:8080/"
        },
        "id": "QXnrHLblO70U",
        "outputId": "63a8c255-770f-4b6c-c6d5-0bebb3e75e2c"
      },
      "execution_count": null,
      "outputs": [
        {
          "output_type": "stream",
          "name": "stdout",
          "text": [
            "Pyt\n"
          ]
        }
      ]
    },
    {
      "cell_type": "code",
      "source": [
        "#4. Write a code to convert the string \"hello\" to uppercase.\n",
        "\n",
        "str = \"hello\"\n",
        "str = str.upper()\n",
        "print(str)"
      ],
      "metadata": {
        "colab": {
          "base_uri": "https://localhost:8080/"
        },
        "id": "Cuk0Yx6VO74D",
        "outputId": "1fec9c02-065c-4648-ed57-495e53e62586"
      },
      "execution_count": null,
      "outputs": [
        {
          "output_type": "stream",
          "name": "stdout",
          "text": [
            "HELLO\n"
          ]
        }
      ]
    },
    {
      "cell_type": "code",
      "source": [
        "#5. Write a code to replace the word \"apple\" with \"orange\" in the string \"I like apple\"\n",
        "\n",
        "str = \"I like apple\"\n",
        "str = str.replace(\"apple\", \"orange\")\n",
        "print(str)"
      ],
      "metadata": {
        "colab": {
          "base_uri": "https://localhost:8080/"
        },
        "id": "YvHsEkc-RReN",
        "outputId": "826b5b4c-6786-4e07-a818-1c819355b01d"
      },
      "execution_count": 1,
      "outputs": [
        {
          "output_type": "stream",
          "name": "stdout",
          "text": [
            "I like orange\n"
          ]
        }
      ]
    },
    {
      "cell_type": "code",
      "source": [
        "#6. Write a code to create a list with numbers 1 to 5 and print it\n",
        "\n",
        "lst = [1,2,3,4,5]\n",
        "print(lst)"
      ],
      "metadata": {
        "colab": {
          "base_uri": "https://localhost:8080/"
        },
        "id": "A0iymA_nRRgj",
        "outputId": "abeafa29-8cf8-4b42-8205-1663e27f8c90"
      },
      "execution_count": null,
      "outputs": [
        {
          "output_type": "stream",
          "name": "stdout",
          "text": [
            "[1, 2, 3, 4, 5]\n"
          ]
        }
      ]
    },
    {
      "cell_type": "code",
      "source": [
        "#7. Write a code to append the number 10 to the list [1, 2, 3, 4]\n",
        "\n",
        "lst = [1,2,3,4]\n",
        "lst.append(10)\n",
        "print(lst)"
      ],
      "metadata": {
        "colab": {
          "base_uri": "https://localhost:8080/"
        },
        "id": "gc950tOURRi7",
        "outputId": "3c86d2c2-066b-49c0-d0f1-fec4db9b4331"
      },
      "execution_count": null,
      "outputs": [
        {
          "output_type": "stream",
          "name": "stdout",
          "text": [
            "[1, 2, 3, 4, 10]\n"
          ]
        }
      ]
    },
    {
      "cell_type": "code",
      "source": [
        "#8. Write a code to remove the number 3 from the list [1, 2, 3, 4, 5]\n",
        "\n",
        "lst = [1,2,3,4,5]\n",
        "lst.remove(3)\n",
        "print(lst)"
      ],
      "metadata": {
        "colab": {
          "base_uri": "https://localhost:8080/"
        },
        "id": "reU2KrW8RRmB",
        "outputId": "5cd22e9e-23e3-48d3-db08-6d7f0e72a2bf"
      },
      "execution_count": null,
      "outputs": [
        {
          "output_type": "stream",
          "name": "stdout",
          "text": [
            "[1, 2, 4, 5]\n"
          ]
        }
      ]
    },
    {
      "cell_type": "code",
      "source": [
        "#9. Write a code to access the second element in the list ['a', 'b', 'c', 'd']\n",
        "\n",
        "lst = ['a', 'b', 'c', 'd']\n",
        "print(lst[1])"
      ],
      "metadata": {
        "colab": {
          "base_uri": "https://localhost:8080/"
        },
        "id": "7-IlKMIXVbZB",
        "outputId": "b05836b0-ddc8-4c73-fa60-67beb11eaecb"
      },
      "execution_count": null,
      "outputs": [
        {
          "output_type": "stream",
          "name": "stdout",
          "text": [
            "b\n"
          ]
        }
      ]
    },
    {
      "cell_type": "code",
      "source": [
        "#10. Write a code to reverse the list [10, 20, 30, 40, 50]\n",
        "\n",
        "lst = [10, 20, 30, 40, 50]\n",
        "lst.reverse()\n",
        "print(lst)"
      ],
      "metadata": {
        "colab": {
          "base_uri": "https://localhost:8080/"
        },
        "id": "ugPRC5_XVtjX",
        "outputId": "f980d407-d623-4e89-e6a0-cf16b7a6aba6"
      },
      "execution_count": null,
      "outputs": [
        {
          "output_type": "stream",
          "name": "stdout",
          "text": [
            "[50, 40, 30, 20, 10]\n"
          ]
        }
      ]
    },
    {
      "cell_type": "code",
      "source": [
        "#11. Write a code to create a tuple with the elements 100, 200, 300 and print it.\n",
        "\n",
        "t = (100, 200, 300)\n",
        "print(t)"
      ],
      "metadata": {
        "colab": {
          "base_uri": "https://localhost:8080/"
        },
        "id": "ESD1SLBKDaOi",
        "outputId": "3e08045a-d51d-42a3-f5ff-9075dd3f1de5"
      },
      "execution_count": 1,
      "outputs": [
        {
          "output_type": "stream",
          "name": "stdout",
          "text": [
            "(100, 200, 300)\n"
          ]
        }
      ]
    },
    {
      "cell_type": "code",
      "source": [
        "# 12. Write a code to access the second-to-last element of the tuple ('red', 'green', 'blue', 'yellow').\n",
        "\n",
        "t = ('red', 'green', 'blue', 'yellow')\n",
        "t[-2]"
      ],
      "metadata": {
        "colab": {
          "base_uri": "https://localhost:8080/",
          "height": 36
        },
        "id": "hBOuOeAPDaMY",
        "outputId": "64e3098e-f4d9-4c89-cea0-3e298b6d1c8b"
      },
      "execution_count": 3,
      "outputs": [
        {
          "output_type": "execute_result",
          "data": {
            "text/plain": [
              "'blue'"
            ],
            "application/vnd.google.colaboratory.intrinsic+json": {
              "type": "string"
            }
          },
          "metadata": {},
          "execution_count": 3
        }
      ]
    },
    {
      "cell_type": "code",
      "source": [
        "#13. Write a code to find the minimum number in the tuple (10, 20, 5, 15).\n",
        "\n",
        "t = (10,20,5,15)\n",
        "print(min(t))"
      ],
      "metadata": {
        "colab": {
          "base_uri": "https://localhost:8080/"
        },
        "id": "Hlv4-nHADaJ6",
        "outputId": "277ae1a3-663e-439a-db53-ce870cabffaf"
      },
      "execution_count": 4,
      "outputs": [
        {
          "output_type": "stream",
          "name": "stdout",
          "text": [
            "5\n"
          ]
        }
      ]
    },
    {
      "cell_type": "code",
      "source": [
        "# 14. Write a code to find the index of the element \"cat\" in the tuple ('dog', 'cat', 'rabbit')\n",
        "\n",
        "t = ('dog', 'cat', 'rabbit')\n",
        "print(t.index('cat'))"
      ],
      "metadata": {
        "colab": {
          "base_uri": "https://localhost:8080/"
        },
        "id": "T5lzPFSuDaHV",
        "outputId": "fbd49b04-3ab1-44fa-fd1f-8132946c2bb9"
      },
      "execution_count": 5,
      "outputs": [
        {
          "output_type": "stream",
          "name": "stdout",
          "text": [
            "1\n"
          ]
        }
      ]
    },
    {
      "cell_type": "code",
      "source": [
        "# 15. Write a code to create a tuple containing three different fruits and check if \"kiwi\" is in it\n",
        "\n",
        "fruit = ('mango', 'banana', 'kiwi')\n",
        "print('kiwi' in fruit)\n"
      ],
      "metadata": {
        "colab": {
          "base_uri": "https://localhost:8080/"
        },
        "id": "v4kykENMDaFO",
        "outputId": "3ef0f46a-7c9e-4881-fc12-b0abc58b251e"
      },
      "execution_count": 7,
      "outputs": [
        {
          "output_type": "stream",
          "name": "stdout",
          "text": [
            "True\n"
          ]
        }
      ]
    },
    {
      "cell_type": "code",
      "source": [
        "# 16. Write a code to create a set with the elements 'a', 'b', 'c' and print it.\n",
        "\n",
        "s={'a', 'b', 'c'}\n",
        "print(s)"
      ],
      "metadata": {
        "colab": {
          "base_uri": "https://localhost:8080/"
        },
        "id": "6k1Hx7jqHWz3",
        "outputId": "c9ad8849-0930-4096-aa5d-5110fc55fd3e"
      },
      "execution_count": 11,
      "outputs": [
        {
          "output_type": "stream",
          "name": "stdout",
          "text": [
            "{'a', 'b', 'c'}\n"
          ]
        }
      ]
    },
    {
      "cell_type": "code",
      "source": [
        "# 17. Write a code to clear all elements from the set {1, 2, 3, 4, 5}\n",
        "\n",
        "s = {1,2,3,4,5}\n",
        "s.clear()\n",
        "print(s)"
      ],
      "metadata": {
        "colab": {
          "base_uri": "https://localhost:8080/"
        },
        "id": "pf0edQwxDaCb",
        "outputId": "379f0778-3cc7-41fd-8357-ec415b65d26b"
      },
      "execution_count": 12,
      "outputs": [
        {
          "output_type": "stream",
          "name": "stdout",
          "text": [
            "set()\n"
          ]
        }
      ]
    },
    {
      "cell_type": "code",
      "source": [
        "# 18. Write a code to remove the element 4 from the set {1, 2, 3, 4}.\n",
        "\n",
        "s = {1,2,3,4}\n",
        "s.remove(4)\n",
        "print(s)"
      ],
      "metadata": {
        "colab": {
          "base_uri": "https://localhost:8080/"
        },
        "id": "fHzwJwYSDaAK",
        "outputId": "6096bf34-9771-4339-e4ac-055cc084699a"
      },
      "execution_count": 14,
      "outputs": [
        {
          "output_type": "stream",
          "name": "stdout",
          "text": [
            "{1, 2, 3}\n"
          ]
        }
      ]
    },
    {
      "cell_type": "code",
      "source": [
        "# 19. Write a code to find the union of two sets {1, 2, 3} and {3, 4, 5}.\n",
        "\n",
        "s1 = {1,2,3}\n",
        "s2 = {3,4,5}\n",
        "print(s1|s2)"
      ],
      "metadata": {
        "colab": {
          "base_uri": "https://localhost:8080/"
        },
        "id": "9YwxpuNzDZ9N",
        "outputId": "bb6296db-8b2a-4de3-ad56-39a16c0d766a"
      },
      "execution_count": 15,
      "outputs": [
        {
          "output_type": "stream",
          "name": "stdout",
          "text": [
            "{1, 2, 3, 4, 5}\n"
          ]
        }
      ]
    },
    {
      "cell_type": "code",
      "source": [
        "# 20. Write a code to find the intersection of two sets {1, 2, 3} and {2, 3, 4}.\n",
        "\n",
        "s1 = {1,2,3}\n",
        "s2 = {2,3,4}\n",
        "print(s1&s2)"
      ],
      "metadata": {
        "colab": {
          "base_uri": "https://localhost:8080/"
        },
        "id": "vmgTkRsbDZ6o",
        "outputId": "69c5aa83-a486-4e7b-fb38-c0d4b1514d21"
      },
      "execution_count": 16,
      "outputs": [
        {
          "output_type": "stream",
          "name": "stdout",
          "text": [
            "{2, 3}\n"
          ]
        }
      ]
    },
    {
      "cell_type": "code",
      "source": [
        "# 21.  Write a code to create a dictionary with the keys \"name\", \"age\", and \"city\", and print it\n",
        "\n",
        "my_dict = {\"name\" : \"Sumit\", \"age\" : 32, \"city\" : \"New Delhi\"}\n",
        "print(my_dict)"
      ],
      "metadata": {
        "colab": {
          "base_uri": "https://localhost:8080/"
        },
        "id": "cUkHPp3QDZ1Z",
        "outputId": "c764e6cf-7124-4585-fa5f-1950fb530feb"
      },
      "execution_count": 17,
      "outputs": [
        {
          "output_type": "stream",
          "name": "stdout",
          "text": [
            "{'name': 'Sumit', 'age': 32, 'city': 'New Delhi'}\n"
          ]
        }
      ]
    },
    {
      "cell_type": "code",
      "source": [
        "# 22 Write a code to add a new key-value pair \"country\": \"USA\" to the dictionary {'name': 'John', 'age': 25}.\n",
        "dict = {\"name\" : \"John\", \"age\" : 25}\n",
        "dict[\"country\"] = \"USA\"\n",
        "print(dict)"
      ],
      "metadata": {
        "colab": {
          "base_uri": "https://localhost:8080/"
        },
        "id": "8H5-dUu3DZoQ",
        "outputId": "3a8b4d8a-890c-47d7-b2c1-c2fd816b6b9b"
      },
      "execution_count": 23,
      "outputs": [
        {
          "output_type": "stream",
          "name": "stdout",
          "text": [
            "{'name': 'John', 'age': 25, 'country': 'USA'}\n"
          ]
        }
      ]
    },
    {
      "cell_type": "code",
      "source": [
        "# 23. Write a code to access the value associated with the key \"name\" in the dictionary {'name': 'Alice', 'age': 30}\n",
        "\n",
        "dict = {\"name\" : \"Alice\", \"age\" : 30}\n",
        "print(dict[\"name\"])"
      ],
      "metadata": {
        "colab": {
          "base_uri": "https://localhost:8080/"
        },
        "id": "tEBRvFdLGOSZ",
        "outputId": "2b035080-1110-4a0c-c381-4df29c9d3806"
      },
      "execution_count": 24,
      "outputs": [
        {
          "output_type": "stream",
          "name": "stdout",
          "text": [
            "Alice\n"
          ]
        }
      ]
    },
    {
      "cell_type": "code",
      "source": [
        "#24.  Write a code to remove the key \"age\" from the dictionary {'name': 'Bob', 'age': 22, 'city': 'New York'}\n",
        "\n",
        "dict = {'name': 'Bob', 'age': 22, 'city': 'New York'}\n",
        "dict.pop(\"age\")\n",
        "print(dict)"
      ],
      "metadata": {
        "colab": {
          "base_uri": "https://localhost:8080/"
        },
        "id": "igeOt4wLGOIT",
        "outputId": "305ace4d-8d75-4a75-a8f7-d0cacfd1137e"
      },
      "execution_count": 25,
      "outputs": [
        {
          "output_type": "stream",
          "name": "stdout",
          "text": [
            "{'name': 'Bob', 'city': 'New York'}\n"
          ]
        }
      ]
    },
    {
      "cell_type": "code",
      "source": [
        "# 25. Write a code to check if the key \"city\" exists in the dictionary {'name': 'Alice', 'city': 'Paris'}\n",
        "\n",
        "dict = {'name': 'Alice', 'city': 'Paris'}\n",
        "print(\"city\" in dict)"
      ],
      "metadata": {
        "colab": {
          "base_uri": "https://localhost:8080/"
        },
        "id": "K6e2tDk2GN_P",
        "outputId": "13ae568e-708c-4d89-db74-57cd91d2a829"
      },
      "execution_count": 29,
      "outputs": [
        {
          "output_type": "stream",
          "name": "stdout",
          "text": [
            "True\n"
          ]
        }
      ]
    },
    {
      "cell_type": "code",
      "source": [
        "# 26. Write a code to create a list, a tuple, and a dictionary, and print them all\n",
        "\n",
        "lst = [1,2,3,4,5]\n",
        "print(lst)\n",
        "t = (1,2,3,4,5)\n",
        "print(t)\n",
        "d = {1:1, 2:4, 3:9}\n",
        "print(d)"
      ],
      "metadata": {
        "colab": {
          "base_uri": "https://localhost:8080/"
        },
        "id": "ZuD_76uIGN27",
        "outputId": "9f3b87a1-419d-46ec-edad-b3a24d985352"
      },
      "execution_count": 10,
      "outputs": [
        {
          "output_type": "stream",
          "name": "stdout",
          "text": [
            "[1, 2, 3, 4, 5]\n",
            "(1, 2, 3, 4, 5)\n",
            "{1: 1, 2: 4, 3: 9}\n"
          ]
        }
      ]
    },
    {
      "cell_type": "code",
      "source": [
        "# 27. Write a code to create a list of 5 random numbers between 1 and 100, sort it in ascending order, and print the result. (replaced)\n",
        "\n",
        "lst = [25,79,36,131,2]\n",
        "lst.sort()\n",
        "print(lst)"
      ],
      "metadata": {
        "colab": {
          "base_uri": "https://localhost:8080/"
        },
        "id": "JLh_7XzrGNuX",
        "outputId": "402a99b3-3a0d-44da-aeac-7983a82dacc9"
      },
      "execution_count": 32,
      "outputs": [
        {
          "output_type": "stream",
          "name": "stdout",
          "text": [
            "[2, 25, 36, 79, 131]\n"
          ]
        }
      ]
    },
    {
      "cell_type": "code",
      "source": [
        "# 28. Write a code to create a list with strings and print the element at the third index\n",
        "\n",
        "lst = [\"Ajay\", \"Bijay\", \"Sanjay\", \"Bijay\", \"Sanjay\"]\n",
        "print(lst[2])"
      ],
      "metadata": {
        "colab": {
          "base_uri": "https://localhost:8080/"
        },
        "id": "tyWJYkaMGNln",
        "outputId": "43aef54b-517f-42d3-83e8-545d05bf2ecd"
      },
      "execution_count": 33,
      "outputs": [
        {
          "output_type": "stream",
          "name": "stdout",
          "text": [
            "Sanjay\n"
          ]
        }
      ]
    },
    {
      "cell_type": "code",
      "source": [
        "# 29. Write a code to combine two dictionaries into one and print the result.\n",
        "\n",
        "dict1 = {\"name\" : \"Sumit\", \"age\" : 32}\n",
        "dict2 = {\"city\" : \"New Delhi\", \"country\" : \"India\"}\n",
        "dict1.update(dict2)\n",
        "print(dict1)"
      ],
      "metadata": {
        "colab": {
          "base_uri": "https://localhost:8080/"
        },
        "id": "3_zGJNYjGNZo",
        "outputId": "9f863c51-86df-427c-81b8-3ed52278949b"
      },
      "execution_count": 35,
      "outputs": [
        {
          "output_type": "stream",
          "name": "stdout",
          "text": [
            "{'name': 'Sumit', 'age': 32, 'city': 'New Delhi', 'country': 'India'}\n"
          ]
        }
      ]
    },
    {
      "cell_type": "code",
      "source": [
        "# 30. Write a code to convert a list of strings into a set.\n",
        "\n",
        "lst = [\"Ajay\", \"Bijay\", \"Sanjay\", \"Bijay\", \"Sanjay\"]\n",
        "print(lst)\n",
        "print(set(lst))"
      ],
      "metadata": {
        "colab": {
          "base_uri": "https://localhost:8080/"
        },
        "id": "_eU55IaGGNN4",
        "outputId": "997b4faf-9ff8-402c-957d-b88ec72daff8"
      },
      "execution_count": 9,
      "outputs": [
        {
          "output_type": "stream",
          "name": "stdout",
          "text": [
            "['Ajay', 'Bijay', 'Sanjay', 'Bijay', 'Sanjay']\n",
            "{'Sanjay', 'Ajay', 'Bijay'}\n"
          ]
        }
      ]
    }
  ]
}